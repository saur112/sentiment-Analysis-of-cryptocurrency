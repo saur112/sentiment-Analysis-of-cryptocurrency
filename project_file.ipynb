{
  "nbformat": 4,
  "nbformat_minor": 0,
  "metadata": {
    "colab": {
      "name": "project_file",
      "provenance": [],
      "collapsed_sections": [],
      "authorship_tag": "ABX9TyPJ2pIPfm9fVS+e3T+3O/m8",
      "include_colab_link": true
    },
    "kernelspec": {
      "name": "python3",
      "display_name": "Python 3"
    },
    "language_info": {
      "name": "python"
    }
  },
  "cells": [
    {
      "cell_type": "markdown",
      "metadata": {
        "id": "view-in-github",
        "colab_type": "text"
      },
      "source": [
        "<a href=\"https://colab.research.google.com/github/saur112/sentiment-Analysis-of-cryptocurrency/blob/main/project_file.ipynb\" target=\"_parent\"><img src=\"https://colab.research.google.com/assets/colab-badge.svg\" alt=\"Open In Colab\"/></a>"
      ]
    },
    {
      "cell_type": "code",
      "execution_count": null,
      "metadata": {
        "id": "A7jKDxB9qVLq"
      },
      "outputs": [],
      "source": [
        "import tweepy\n",
        "from textblob import TextBlob\n",
        "import pandas as pd\n",
        "import numpy as np\n",
        "import re\n",
        "import emoji\n",
        "from bs4 import BeautifulSoup\n",
        "import matplotlib.pyplot as plt\n",
        "\n",
        "# plt.style.use('fivethirtyeight')"
      ]
    },
    {
      "cell_type": "code",
      "source": [
        "!pip install emoji\n"
      ],
      "metadata": {
        "colab": {
          "base_uri": "https://localhost:8080/"
        },
        "id": "zMk9cCqpu_cw",
        "outputId": "20032b63-6852-484e-dd93-dcf16bf32ef5"
      },
      "execution_count": null,
      "outputs": [
        {
          "output_type": "stream",
          "name": "stdout",
          "text": [
            "Looking in indexes: https://pypi.org/simple, https://us-python.pkg.dev/colab-wheels/public/simple/\n",
            "Requirement already satisfied: emoji in /usr/local/lib/python3.7/dist-packages (2.0.0)\n"
          ]
        }
      ]
    },
    {
      "cell_type": "code",
      "source": [
        "from google.colab import files\n",
        "files.upload()"
      ],
      "metadata": {
        "id": "Qwzx7lCE2j4Y"
      },
      "execution_count": null,
      "outputs": []
    },
    {
      "cell_type": "code",
      "source": [
        "log=pd.read_csv('Login.csv')\n",
        "print(log)"
      ],
      "metadata": {
        "id": "E-oIpREu3Kez"
      },
      "execution_count": null,
      "outputs": []
    },
    {
      "cell_type": "code",
      "source": [
        "api_key=\"yy3kyWgnsLU59dPKfOQ2aRvbX\"\n",
        "api_key_secret=\"HHJXye1yLWhgUqiIiqVSEC4RGYUXwjc71OvHZIgK4VrFouYiVS\"\n",
        "\n",
        "access_token=\"1551961597903785984-ipWmG5mCpSj7FUH3oNEmVz7vPMJExi\"\n",
        "access_token_secret=\"XSTYlQu0t6FrmQALAgEqCffFrBXLURND4ldXGWNuOGFNa\""
      ],
      "metadata": {
        "id": "cGNh2dyWIo3H"
      },
      "execution_count": null,
      "outputs": []
    },
    {
      "cell_type": "code",
      "source": [
        "#fetching api\n",
        "authentication=tweepy.OAuthHandler(api_key,api_key_secret)\n",
        "authentication.set_access_token(access_token,access_token_secret)\n",
        "\n",
        "api=tweepy.API(authentication,wait_on_rate_limit=True)\n",
        "print(api)"
      ],
      "metadata": {
        "colab": {
          "base_uri": "https://localhost:8080/"
        },
        "id": "Zdj-onD5I_lp",
        "outputId": "331236ed-60a9-41c3-d0bb-83af68cf3511"
      },
      "execution_count": null,
      "outputs": [
        {
          "output_type": "stream",
          "name": "stdout",
          "text": [
            "<tweepy.api.API object at 0x7fa79025de50>\n"
          ]
        }
      ]
    },
    {
      "cell_type": "code",
      "source": [
        "# search='#Ethereum-filter:retweets'\n",
        "# search='#viratkohli-filter:retweets'\n",
        "search='#Yuzi Chahal-filter:retweets'\n",
        "# search='#bitcoin-filter:retweets'\n",
        "\n",
        "t=tweepy.Cursor(api.search,q=search,lang='en',since='2022-04-05',tweet_mode='extended').items(500)\n",
        "l=[i.full_text for i in t]\n"
      ],
      "metadata": {
        "id": "lYJRQQnGaYGj"
      },
      "execution_count": null,
      "outputs": []
    },
    {
      "cell_type": "code",
      "source": [
        "df=pd.DataFrame(l,columns=['Tweets'])#data extraction\n",
        "df.head(10)"
      ],
      "metadata": {
        "id": "1Ur3q5KIjR49"
      },
      "execution_count": null,
      "outputs": []
    },
    {
      "cell_type": "code",
      "source": [
        "#cleaning the tweets\n",
        "def clean_tweet(a):\n",
        "  a=re.sub('#bitcoin','bitcoin',a)\n",
        "  a=re.sub('#Bitcoin','Bitcoin',a)\n",
        "  a=re.sub('#Ethereum','Ethereum',a)\n",
        "  a=emoji.demojize(a)\n",
        "  a=a.replace(\":\",\"\")\n",
        "  a = BeautifulSoup(a).get_text()\n",
        "  a=re.sub('(#[A-Za-z0-9]+|@[A-Za-z0-9])',\"\",a)\n",
        "  a=' '.join(re.sub(\"[\\.\\,\\!\\?\\:\\;\\-\\=]\", \" \", a).split())\n",
        "  a=re.sub('\\\\n','',a)\n",
        "  a=re.sub('\\w+:\\/\\/\\S+','',a)\n",
        "  # a = ' '.join(re.sub(\"(\\w+:\\/\\/\\S+)\", \" \", a).split())\n",
        "  return a \n",
        "df['fresh_tweet']=df['Tweets'].apply(clean_tweet)\n",
        "df.head(10)"
      ],
      "metadata": {
        "id": "qThPQf86pww7"
      },
      "execution_count": null,
      "outputs": []
    },
    {
      "cell_type": "code",
      "source": [
        "def getSubjectivity(b):\n",
        "  return TextBlob(b).sentiment.subjectivity\n",
        "\n",
        "def getpolarity(b):\n",
        "  return TextBlob(b).sentiment.polarity\n",
        "\n",
        "df['subjectivity']=df['fresh_tweet'].apply(getSubjectivity)\n",
        "df['polarity']=df['fresh_tweet'].apply(getpolarity)\n",
        "df.head(10)"
      ],
      "metadata": {
        "id": "O4NogYBVHwPB"
      },
      "execution_count": null,
      "outputs": []
    }
  ]
}